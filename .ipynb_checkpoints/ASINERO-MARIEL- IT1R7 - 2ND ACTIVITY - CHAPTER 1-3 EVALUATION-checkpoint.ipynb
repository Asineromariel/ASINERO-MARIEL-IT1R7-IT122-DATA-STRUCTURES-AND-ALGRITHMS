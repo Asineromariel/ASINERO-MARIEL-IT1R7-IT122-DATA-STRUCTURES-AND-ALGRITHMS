{
 "cells": [
  {
   "cell_type": "code",
   "execution_count": 16,
   "id": "atomic-skill",
   "metadata": {},
   "outputs": [
    {
     "name": "stdout",
     "output_type": "stream",
     "text": [
      "Discuss your learnings on Chapter 1  time-frame 8:00 - 30:35. Minimum of 200 characters\n",
      "Chapter 1 learnings are the following\n",
      "A data structure is a specialized format for organizing, processing, retrieving and storing data.Data structures make it easy for users to access and work with the data they need in appropriate ways.\n"
     ]
    }
   ],
   "source": [
    "print(\"Discuss your learnings on Chapter 1  time-frame 8:00 - 30:35. Minimum of 200 characters\")\n",
    "print('Chapter 1 learnings are the following')\n",
    "print(\"A data structure is a specialized format for organizing, processing, retrieving and storing data.Data structures make it easy for users to access and work with the data they need in appropriate ways.\")"
   ]
  },
  {
   "cell_type": "code",
   "execution_count": 23,
   "id": "imposed-stereo",
   "metadata": {},
   "outputs": [
    {
     "name": "stdout",
     "output_type": "stream",
     "text": [
      "Discuss your learnings on Chapter 1  time-frame 35:00 - end. Minimum of 200 characters\n",
      "Chapter 1 learnings are the following\n",
      "Algorithm analysis is an integral aspect of computational complexity theory, which provides a theoretical estimate of the algorithm's resources needed to solve a specific computational problem. Algorithm analysis is the study of the amount of time and space resources needed to run the algorithm.\n"
     ]
    }
   ],
   "source": [
    "print(\"Discuss your learnings on Chapter 1  time-frame 35:00 - end. Minimum of 200 characters\")\n",
    "print('Chapter 1 learnings are the following')\n",
    "print(\"Algorithm analysis is an integral aspect of computational complexity theory, which provides a theoretical estimate of the algorithm's resources needed to solve a specific computational problem. Algorithm analysis is the study of the amount of time and space resources needed to run the algorithm.\")\n"
   ]
  },
  {
   "cell_type": "code",
   "execution_count": 22,
   "id": "macro-orange",
   "metadata": {},
   "outputs": [
    {
     "name": "stdout",
     "output_type": "stream",
     "text": [
      "Discuss your learnings on Chapter 2  time-frame 5:00 - 9:00. Minimum of 200 characters\n",
      "chapter 2 learnings are the following\n",
      "Derived data type is the aggregation of fundamental data type.character, integer, float, and void are fundamental data typesPointers, arrays, structures and unions are derived data types.Array is used to contain similar type of data.\n"
     ]
    }
   ],
   "source": [
    "print(\"Discuss your learnings on Chapter 2  time-frame 5:00 - 9:00. Minimum of 200 characters\")\n",
    "print(\"chapter 2 learnings are the following\")\n",
    "print(\"Derived data type is the aggregation of fundamental data type.character, integer, float, and void are fundamental data typesPointers, arrays, structures and unions are derived data types.Array is used to contain similar type of data.\")"
   ]
  },
  {
   "cell_type": "code",
   "execution_count": 25,
   "id": "tracked-hayes",
   "metadata": {},
   "outputs": [
    {
     "name": "stdout",
     "output_type": "stream",
     "text": [
      "Discuss your learnings on Chapter 3  time-frame 3:00 - 18:00. Minimum of 200 characters\n",
      "Chapter 3 Learnings are the following\n",
      "An Array is a linear data structure that collects data items with similar data types stored in contiguous memory locations. By knowing the address of the first item, all items/elements of the array can be easily accessed.Items stored in an array are called an element.The elements can be accessed through the index.\n"
     ]
    }
   ],
   "source": [
    "print(\"Discuss your learnings on Chapter 3  time-frame 3:00 - 18:00. Minimum of 200 characters\")\n",
    "print(\"Chapter 3 Learnings are the following\")\n",
    "print(\"An Array is a linear data structure that collects data items with similar data types stored in contiguous memory locations. By knowing the address of the first item, all items/elements of the array can be easily accessed.Items stored in an array are called an element.The elements can be accessed through the index.\")"
   ]
  },
  {
   "cell_type": "code",
   "execution_count": 33,
   "id": "geological-worry",
   "metadata": {},
   "outputs": [
    {
     "name": "stdout",
     "output_type": "stream",
     "text": [
      "100\n",
      "100\n",
      "87000\n",
      "2525\n",
      "2525\n"
     ]
    }
   ],
   "source": [
    "from array import *\n",
    "arrayC1 = array(\"L\",[100,25,2525,2525,2525])\n",
    "arrayC1.insert(2,87000)\n",
    "arrayC1.remove(2525)\n",
    "arrayC1[1] = 100\n",
    "for x in arrayC1:\n",
    "    print(x)"
   ]
  },
  {
   "cell_type": "code",
   "execution_count": null,
   "id": "skilled-bidder",
   "metadata": {},
   "outputs": [],
   "source": []
  },
  {
   "cell_type": "code",
   "execution_count": null,
   "id": "humanitarian-daniel",
   "metadata": {},
   "outputs": [],
   "source": []
  }
 ],
 "metadata": {
  "kernelspec": {
   "display_name": "Python 3",
   "language": "python",
   "name": "python3"
  },
  "language_info": {
   "codemirror_mode": {
    "name": "ipython",
    "version": 3
   },
   "file_extension": ".py",
   "mimetype": "text/x-python",
   "name": "python",
   "nbconvert_exporter": "python",
   "pygments_lexer": "ipython3",
   "version": "3.9.2"
  }
 },
 "nbformat": 4,
 "nbformat_minor": 5
}
